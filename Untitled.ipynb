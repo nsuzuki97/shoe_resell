{
 "cells": [
  {
   "cell_type": "code",
   "execution_count": 1,
   "metadata": {},
   "outputs": [],
   "source": [
    "import pandas as pd\n",
    "import nltk\n",
    "from pytrends.request import TrendReq"
   ]
  },
  {
   "cell_type": "code",
   "execution_count": 82,
   "metadata": {},
   "outputs": [
    {
     "data": {
      "text/plain": [
       "dict_values([{'top':                     query  value\n",
       "0          nike air shoes    100\n",
       "1      running shoes nike     77\n",
       "2       womens nike shoes     52\n",
       "3        nike white shoes     45\n",
       "4      air max nike shoes     44\n",
       "5      nike shoes air max     42\n",
       "6         mens nike shoes     39\n",
       "7        black nike shoes     37\n",
       "8        nike women shoes     35\n",
       "9    air force nike shoes     31\n",
       "10         nike men shoes     26\n",
       "11  nike basketball shoes     20\n",
       "12        best nike shoes     20\n",
       "13         new nike shoes     19\n",
       "14        nike zoom shoes     19\n",
       "15   nike shoes for women     17\n",
       "16      nike tennis shoes     17\n",
       "17        nike shoes sale     16\n",
       "18        kids nike shoes     16\n",
       "19        kobe nike shoes      6\n",
       "20     nike slip on shoes      6\n",
       "21       retro nike shoes      4\n",
       "22   expensive nike shoes      4\n",
       "23         nike gym shoes      3\n",
       "24          nike vaporfly      3, 'rising':                                   query  value\n",
       "0                kobe bryant nike shoes  29800\n",
       "1              nike baseball turf shoes  10500\n",
       "2   nike womens running shoes clearance   6500\n",
       "3                 mint green nike shoes   3850\n",
       "4                 penn state nike shoes   2500\n",
       "5                       kobe nike shoes    450\n",
       "6                       dior nike shoes    350\n",
       "7             nike running shoes banned    250\n",
       "8           colin kaepernick shoes nike    250\n",
       "9                 nike volleyball shoes    190\n",
       "10                nike self tying shoes    190\n",
       "11               nike self lacing shoes    130\n",
       "12             nike slip on shoes women    130\n",
       "13                 expensive nike shoes     90\n",
       "14    best nike running shoes for women     90\n",
       "15                        nike vaporfly     80\n",
       "16                 nike lifestyle shoes     80\n",
       "17                     retro nike shoes     80\n",
       "18            black and gold nike shoes     80\n",
       "19              travis scott nike shoes     70\n",
       "20                   nike slip on shoes     60\n",
       "21                  colorful nike shoes     60\n",
       "22                    nike racing shoes     60\n",
       "23                 nike steel toe shoes     60\n",
       "24                       nike gym shoes     50}])"
      ]
     },
     "execution_count": 82,
     "metadata": {},
     "output_type": "execute_result"
    }
   ],
   "source": [
    "pytrend = TrendReq()\n",
    "pytrend.build_payload(kw_list=['nike shoes'], geo='US',timeframe='today 3-m', cat=697)\n",
    "related_queries = pytrend.related_queries()\n",
    "related_queries.values()"
   ]
  },
  {
   "cell_type": "code",
   "execution_count": 79,
   "metadata": {},
   "outputs": [
    {
     "data": {
      "text/plain": [
       "dict_values([{'rising':      value formattedValue                                         link  \\\n",
       "0  2224550       Breakout   /trends/explore?q=/m/09kjlm&date=today+5-y   \n",
       "1   667000       Breakout    /trends/explore?q=/m/06rrc&date=today+5-y   \n",
       "2   665450       Breakout    /trends/explore?q=/m/04yx4&date=today+5-y   \n",
       "3   517400       Breakout    /trends/explore?q=/m/0lwkh&date=today+5-y   \n",
       "4   444250       Breakout   /trends/explore?q=/m/01jtml&date=today+5-y   \n",
       "5   388950       Breakout   /trends/explore?q=/m/04z421&date=today+5-y   \n",
       "6   333300       Breakout  /trends/explore?q=/m/03bt1vf&date=today+5-y   \n",
       "7   258750       Breakout   /trends/explore?q=/m/07f533&date=today+5-y   \n",
       "8   194650       Breakout   /trends/explore?q=/m/01txr2&date=today+5-y   \n",
       "\n",
       "    topic_mid   topic_title                      topic_type  \n",
       "0   /m/09kjlm      Sneakers                            Shoe  \n",
       "1    /m/06rrc          Shoe                            Shoe  \n",
       "2    /m/04yx4           Man                           Topic  \n",
       "3    /m/0lwkh          Nike  Footwear manufacturing company  \n",
       "4   /m/01jtml        Adidas                  Design company  \n",
       "5   /m/04z421    Air Jordan                           Topic  \n",
       "6  /m/03bt1vf         Woman                           Topic  \n",
       "7   /m/07f533  Nike Air Max                            Shoe  \n",
       "8   /m/01txr2        Spring                          Season  , 'top':    value formattedValue  hasData                                         link  \\\n",
       "0    100            100     True   /trends/explore?q=/m/09kjlm&date=today+5-y   \n",
       "1     30             30     True    /trends/explore?q=/m/06rrc&date=today+5-y   \n",
       "2     30             30     True    /trends/explore?q=/m/04yx4&date=today+5-y   \n",
       "3     23             23     True    /trends/explore?q=/m/0lwkh&date=today+5-y   \n",
       "4     20             20     True   /trends/explore?q=/m/01jtml&date=today+5-y   \n",
       "5     17             17     True   /trends/explore?q=/m/04z421&date=today+5-y   \n",
       "6     15             15     True  /trends/explore?q=/m/03bt1vf&date=today+5-y   \n",
       "7     12             12     True   /trends/explore?q=/m/07f533&date=today+5-y   \n",
       "8      9              9     True   /trends/explore?q=/m/01txr2&date=today+5-y   \n",
       "\n",
       "    topic_mid   topic_title                      topic_type  \n",
       "0   /m/09kjlm      Sneakers                            Shoe  \n",
       "1    /m/06rrc          Shoe                            Shoe  \n",
       "2    /m/04yx4           Man                           Topic  \n",
       "3    /m/0lwkh          Nike  Footwear manufacturing company  \n",
       "4   /m/01jtml        Adidas                  Design company  \n",
       "5   /m/04z421    Air Jordan                           Topic  \n",
       "6  /m/03bt1vf         Woman                           Topic  \n",
       "7   /m/07f533  Nike Air Max                            Shoe  \n",
       "8   /m/01txr2        Spring                          Season  }])"
      ]
     },
     "execution_count": 79,
     "metadata": {},
     "output_type": "execute_result"
    }
   ],
   "source": [
    "pytrend = TrendReq()\n",
    "pytrend.build_payload(kw_list=['popular sneakers 2020'])\n",
    "related_topics = pytrend.related_topics()\n",
    "related_topics.values()"
   ]
  },
  {
   "cell_type": "code",
   "execution_count": null,
   "metadata": {},
   "outputs": [],
   "source": []
  }
 ],
 "metadata": {
  "kernelspec": {
   "display_name": "Python 3",
   "language": "python",
   "name": "python3"
  },
  "language_info": {
   "codemirror_mode": {
    "name": "ipython",
    "version": 3
   },
   "file_extension": ".py",
   "mimetype": "text/x-python",
   "name": "python",
   "nbconvert_exporter": "python",
   "pygments_lexer": "ipython3",
   "version": "3.8.1"
  }
 },
 "nbformat": 4,
 "nbformat_minor": 4
}
